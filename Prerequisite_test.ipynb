{
  "nbformat": 4,
  "nbformat_minor": 0,
  "metadata": {
    "colab": {
      "provenance": [],
      "collapsed_sections": [
        "LJzaqHxvfvqS",
        "sJJ7mevUIsBf"
      ]
    },
    "kernelspec": {
      "name": "python3",
      "display_name": "Python 3"
    },
    "language_info": {
      "name": "python"
    }
  },
  "cells": [
    {
      "cell_type": "markdown",
      "source": [
        "# 1)"
      ],
      "metadata": {
        "id": "LJzaqHxvfvqS"
      }
    },
    {
      "cell_type": "markdown",
      "source": [
        "Assume the (n,k) matrix as A and (k,m) matrix as B and the resulting matrix which will be of dimension nXm as C.\n",
        "\n",
        "Now for every element of matrix C, say C[i][j] we will have to multiply iᵗʰ row elements of matrix A with corresponding jᵗʰ column elements of matrix B and add them. This will lead to a total of k multiplications and k-1 additions for each element of C. Since there are a total of n*m elements in C:\n",
        "\n",
        "Number of multiplications = k*m*n\n",
        "\n",
        "Number of additions = (k-1)*m*n\n",
        "\n"
      ],
      "metadata": {
        "id": "JZpnWzNNcLCr"
      }
    },
    {
      "cell_type": "markdown",
      "source": [
        "# 2)\n"
      ],
      "metadata": {
        "id": "e7axlALEfh8l"
      }
    },
    {
      "cell_type": "code",
      "source": [
        "#Using of list of lists\n",
        "import time\n",
        "A=[[2,3,4],[5,1,3],[6,6,6],[9,1,2],[3,6,8]] #(5,3) matrix\n",
        "B=[[4,7,1,3],[9,8,7,6],[1,5,2,3]] #(3,4) matrix\n",
        "C=[[0]*4,[0]*4,[0]*4,[0]*4,[0]*4]\n",
        "t1=time.time()\n",
        "for i in range(5):\n",
        "  for j in range(4):\n",
        "    ans=0\n",
        "    for k in range(3):\n",
        "      ans+=A[i][k]*B[k][j]\n",
        "    C[i][j]=ans\n",
        "t2=time.time()\n",
        "print(C)\n",
        "print(f'Time taken = {t2-t1}')"
      ],
      "metadata": {
        "colab": {
          "base_uri": "https://localhost:8080/"
        },
        "id": "ZkZX8EsScKsR",
        "outputId": "5129bfe4-5616-4b92-a27f-68e343f2651d"
      },
      "execution_count": 2,
      "outputs": [
        {
          "output_type": "stream",
          "name": "stdout",
          "text": [
            "[[39, 58, 31, 36], [32, 58, 18, 30], [84, 120, 60, 72], [47, 81, 20, 39], [74, 109, 61, 69]]\n",
            "Time taken = 9.679794311523438e-05\n"
          ]
        }
      ]
    },
    {
      "cell_type": "code",
      "source": [
        "#Using numpy\n",
        "import numpy as np\n",
        "A_ = np.array(A)\n",
        "B_ = np.array(B)\n",
        "t1_=time.time()\n",
        "C_ = A_@B_\n",
        "t2_=time.time()\n",
        "print(C_)\n",
        "print(f'Time taken = {t2_ - t1_}')"
      ],
      "metadata": {
        "colab": {
          "base_uri": "https://localhost:8080/"
        },
        "id": "mqTFXvJXiZM8",
        "outputId": "c63575bd-ceb7-434b-ca3c-c90cfe6ed021"
      },
      "execution_count": 3,
      "outputs": [
        {
          "output_type": "stream",
          "name": "stdout",
          "text": [
            "[[ 39  58  31  36]\n",
            " [ 32  58  18  30]\n",
            " [ 84 120  60  72]\n",
            " [ 47  81  20  39]\n",
            " [ 74 109  61  69]]\n",
            "Time taken = 7.796287536621094e-05\n"
          ]
        }
      ]
    },
    {
      "cell_type": "markdown",
      "source": [
        "The numpy code seems to be faster as compared to the list of lists method."
      ],
      "metadata": {
        "id": "D6RxBo4Nj4Hq"
      }
    },
    {
      "cell_type": "markdown",
      "source": [
        "# 3)"
      ],
      "metadata": {
        "id": "Fd8n6_U2lvXr"
      }
    },
    {
      "cell_type": "markdown",
      "source": [
        "The time complexity for the orthodox approach will be O($n^2$)"
      ],
      "metadata": {
        "id": "Q59oB59Dlyua"
      }
    },
    {
      "cell_type": "code",
      "source": [
        "import time\n",
        "a=[2,9,1,4,10,7,3,5]\n",
        "arr = a.copy()\n",
        "n=len(arr)\n",
        "\n",
        "t1=time.time()\n",
        "if n%2==1:\n",
        "  for j in range((n//2)+1):\n",
        "    max_ind = 0\n",
        "    for i in range(n):\n",
        "      if arr[i]>arr[max_ind]:\n",
        "        max_ind = i\n",
        "    if j==n//2:\n",
        "      print(arr[max_ind])\n",
        "    else:\n",
        "      arr[max_ind]=float('-inf')\n",
        "\n",
        "if n%2==0:\n",
        "  for j in range((n//2)+1):\n",
        "    max_ind = 0\n",
        "    for i in range(n):\n",
        "      if arr[i]>arr[max_ind]:\n",
        "        max_ind = i\n",
        "    if j==(n//2)-1:\n",
        "      m1=arr[max_ind]\n",
        "    if j==n//2:\n",
        "      m2=arr[max_ind]\n",
        "    else:\n",
        "      arr[max_ind]=float('-inf')\n",
        "  print((m1+m2)/2)\n",
        "t2=time.time()\n",
        "print(f'Time taken = {t2-t1}')"
      ],
      "metadata": {
        "colab": {
          "base_uri": "https://localhost:8080/"
        },
        "id": "tnRLGWtym80l",
        "outputId": "7fc789a4-171f-4c3b-d253-a3359e616547"
      },
      "execution_count": 4,
      "outputs": [
        {
          "output_type": "stream",
          "name": "stdout",
          "text": [
            "4.5\n",
            "Time taken = 0.0015215873718261719\n"
          ]
        }
      ]
    },
    {
      "cell_type": "code",
      "source": [
        "#finding median using numpy\n",
        "import numpy as np\n",
        "t1_=time.time()\n",
        "med = np.median(a)\n",
        "print(med)\n",
        "t2_=time.time()\n",
        "print(f'Time taken = {t2_-t1_}')"
      ],
      "metadata": {
        "colab": {
          "base_uri": "https://localhost:8080/"
        },
        "id": "z8KMdou-uFA6",
        "outputId": "ab1c16df-5911-47b0-823c-0ed3d62cb576"
      },
      "execution_count": 5,
      "outputs": [
        {
          "output_type": "stream",
          "name": "stdout",
          "text": [
            "4.5\n",
            "Time taken = 0.002737283706665039\n"
          ]
        }
      ]
    },
    {
      "cell_type": "markdown",
      "source": [
        "# 4)"
      ],
      "metadata": {
        "id": "Qt5JIWWjve_S"
      }
    },
    {
      "cell_type": "markdown",
      "source": [
        "$\\left[ \\frac{\\partial f}{\\partial x}, \\frac{\\partial f}{\\partial y} \\right] = \\left[2xy + y^3\\cos(x), x^2 + 3y^2\\sin(x)\\right]$\n"
      ],
      "metadata": {
        "id": "zC2ZSIxxvhwQ"
      }
    },
    {
      "cell_type": "markdown",
      "source": [
        "# 6)"
      ],
      "metadata": {
        "id": "HtgZj12-GY9m"
      }
    },
    {
      "cell_type": "code",
      "source": [
        "import sympy as sp\n",
        "\n",
        "x, y = sp.symbols('x y')\n",
        "\n",
        "f = x**2 * y + y**3 * sp.sin(x)\n",
        "\n",
        "df_dx = sp.diff(f, x)\n",
        "df_dy = sp.diff(f, y)\n",
        "\n",
        "gradient_analytical = [df_dx, df_dy]\n",
        "gradient_analytical"
      ],
      "metadata": {
        "colab": {
          "base_uri": "https://localhost:8080/"
        },
        "id": "eIGqF9VSGMbw",
        "outputId": "f8730f08-0c49-4b40-fb8b-05a9d08a440a"
      },
      "execution_count": 6,
      "outputs": [
        {
          "output_type": "execute_result",
          "data": {
            "text/plain": [
              "[2*x*y + y**3*cos(x), x**2 + 3*y**2*sin(x)]"
            ]
          },
          "metadata": {},
          "execution_count": 6
        }
      ]
    },
    {
      "cell_type": "markdown",
      "source": [
        "# 7)\n"
      ],
      "metadata": {
        "id": "6UHeI2DwG8oh"
      }
    },
    {
      "cell_type": "code",
      "source": [
        "student_data = {\n",
        "    2022:{\n",
        "        'Branch 1':{\n",
        "            'Roll number': 1, 'Name': 'N', 'Marks':{\n",
        "                'Maths': 100, 'English': 70\n",
        "            }\n",
        "        },\n",
        "        'Branch 2':{\n",
        "\n",
        "        }\n",
        "    },\n",
        "    2023:{\n",
        "        'Branch 1':{\n",
        "\n",
        "        },\n",
        "        'Branch 2':{\n",
        "\n",
        "        }\n",
        "    },\n",
        "    2024:{\n",
        "        'Branch 1':{\n",
        "\n",
        "        },\n",
        "        'Branch 2':{\n",
        "\n",
        "        }\n",
        "    },\n",
        "    2025:{\n",
        "        'Branch 1':{\n",
        "\n",
        "        },\n",
        "        'Branch 2':{\n",
        "\n",
        "        }\n",
        "    }\n",
        "}"
      ],
      "metadata": {
        "id": "Sr5eZgboG-3V"
      },
      "execution_count": 7,
      "outputs": []
    },
    {
      "cell_type": "markdown",
      "source": [
        "# 8)"
      ],
      "metadata": {
        "id": "sJJ7mevUIsBf"
      }
    },
    {
      "cell_type": "code",
      "source": [
        "class Student_data:\n",
        "  def __init__(self, rolln, name, m):\n",
        "    self.roll_number = rolln\n",
        "    self.name = name\n",
        "    self.marks = m\n",
        "\n",
        "class Branch:\n",
        "  def __init__(self, num):\n",
        "    self.number = num\n",
        "    self.students = []\n",
        "\n",
        "  def new_student(self, s):\n",
        "    self.students.append(s)\n",
        "\n",
        "class Year:\n",
        "  def __init__(self, y):\n",
        "    self.year = y\n",
        "    self.branch = []\n",
        "\n",
        "  def new_branch(self, b):\n",
        "    self.branch.append(b)\n",
        "\n",
        "database=[]\n",
        "\n",
        "y2022 = Year(2022)\n",
        "database.append(y2022)\n",
        "b1_2022 = Branch(1)\n",
        "s1 = Student_data(1, 'N', {'Maths':100, 'English':70})\n",
        "b1_2022.new_student(s1)\n",
        "y2022.new_branch(b1_2022)\n",
        "b2_2022 = Branch(2)\n",
        "y2022.new_branch(b2_2022)\n",
        "\n",
        "y2023 = Year(2023)\n",
        "database.append(y2023)\n",
        "b1_2023 = Branch(1)\n",
        "y2023.new_branch(b1_2023)\n",
        "b2_2023 = Branch(2)\n",
        "y2023.new_branch(b2_2023)\n",
        "\n",
        "y2024 = Year(2024)\n",
        "database.append(y2024)\n",
        "b1_2024 = Branch(1)\n",
        "y2024.new_branch(b1_2024)\n",
        "b2_2024 = Branch(2)\n",
        "y2024.new_branch(b2_2024)\n",
        "\n",
        "y2025 = Year(2025)\n",
        "database.append(y2025)\n",
        "b1_2025 = Branch(1)\n",
        "y2025.new_branch(b1_2025)\n",
        "b2_2025 = Branch(2)\n",
        "y2025.new_branch(b2_2025)"
      ],
      "metadata": {
        "id": "VaVnXavAIuOn"
      },
      "execution_count": 8,
      "outputs": []
    },
    {
      "cell_type": "markdown",
      "source": [
        "# 9)"
      ],
      "metadata": {
        "id": "nzVMTcSXIvch"
      }
    },
    {
      "cell_type": "code",
      "source": [
        "import matplotlib.pyplot as plt\n",
        "import numpy as np\n",
        "\n",
        "x_values = np.linspace(0.5, 100, 199)\n",
        "\n",
        "def f1(x):\n",
        "  return x\n",
        "\n",
        "plt.plot(x_values, f1(x_values))\n",
        "plt.title('y=x')\n",
        "plt.show()"
      ],
      "metadata": {
        "colab": {
          "base_uri": "https://localhost:8080/",
          "height": 452
        },
        "id": "TA4PPyYwIyav",
        "outputId": "1f377d91-3c9b-4a51-d176-27d762337935"
      },
      "execution_count": 9,
      "outputs": [
        {
          "output_type": "display_data",
          "data": {
            "text/plain": [
              "<Figure size 640x480 with 1 Axes>"
            ],
            "image/png": "[encoded data removed]"
          },
          "metadata": {}
        }
      ]
    },
    {
      "cell_type": "code",
      "source": [
        "def f2(x):\n",
        "  return x**2\n",
        "\n",
        "plt.plot(x_values, f2(x_values))\n",
        "plt.title('y=x^2')\n",
        "plt.show()"
      ],
      "metadata": {
        "colab": {
          "base_uri": "https://localhost:8080/",
          "height": 452
        },
        "id": "2OTxcv6BKvII",
        "outputId": "1f3438b9-df5c-4062-88b9-e0b84776d6b0"
      },
      "execution_count": null,
      "outputs": [
        {
          "output_type": "display_data",
          "data": {
            "text/plain": [
              "<Figure size 640x480 with 1 Axes>"
            ],
            "image/png": "[encoded data removed]"
          },
          "metadata": {}
        }
      ]
    },
    {
      "cell_type": "code",
      "source": [
        "def f3(x):\n",
        "  return (x**3)/100\n",
        "\n",
        "plt.plot(x_values, f3(x_values))\n",
        "plt.title('y=(x^3)/100')\n",
        "plt.show()"
      ],
      "metadata": {
        "colab": {
          "base_uri": "https://localhost:8080/",
          "height": 452
        },
        "id": "-80ppefzK83_",
        "outputId": "5ed2d79b-d849-4bd4-b367-acbd35d7c70a"
      },
      "execution_count": null,
      "outputs": [
        {
          "output_type": "display_data",
          "data": {
            "text/plain": [
              "<Figure size 640x480 with 1 Axes>"
            ],
            "image/png": "[encoded data removed]"
          },
          "metadata": {}
        }
      ]
    },
    {
      "cell_type": "code",
      "source": [
        "import numpy as np\n",
        "def f4(x):\n",
        "  return np.sin(x)\n",
        "\n",
        "plt.plot(x_values, f4(x_values))\n",
        "plt.title('y=sin(x)')\n",
        "plt.show()"
      ],
      "metadata": {
        "colab": {
          "base_uri": "https://localhost:8080/",
          "height": 452
        },
        "id": "FWobyeITLJLZ",
        "outputId": "b25123d4-3efb-417d-d5ea-a8ea7f4e513a"
      },
      "execution_count": null,
      "outputs": [
        {
          "output_type": "display_data",
          "data": {
            "text/plain": [
              "<Figure size 640x480 with 1 Axes>"
            ],
            "image/png": "[encoded data removed]"
          },
          "metadata": {}
        }
      ]
    },
    {
      "cell_type": "code",
      "source": [
        "import numpy as np\n",
        "def f5(x):\n",
        "  return np.sin(x)/x\n",
        "\n",
        "plt.plot(x_values, f5(x_values))\n",
        "plt.title('y=sin(x)/x')\n",
        "plt.show()"
      ],
      "metadata": {
        "colab": {
          "base_uri": "https://localhost:8080/",
          "height": 452
        },
        "id": "PdTeNYxoLfVj",
        "outputId": "79da641e-5890-4ad8-9968-861c00b658c5"
      },
      "execution_count": null,
      "outputs": [
        {
          "output_type": "display_data",
          "data": {
            "text/plain": [
              "<Figure size 640x480 with 1 Axes>"
            ],
            "image/png": "[encoded data removed]"
          },
          "metadata": {}
        }
      ]
    },
    {
      "cell_type": "code",
      "source": [
        "import numpy as np\n",
        "def f6(x):\n",
        "  return np.log(x)\n",
        "\n",
        "plt.plot(x_values, f6(x_values))\n",
        "plt.title('y=log(x)')\n",
        "plt.show()"
      ],
      "metadata": {
        "colab": {
          "base_uri": "https://localhost:8080/",
          "height": 452
        },
        "id": "CsZnVLcuLk-U",
        "outputId": "4d520ea1-a021-4df6-a205-64c921a06d5a"
      },
      "execution_count": null,
      "outputs": [
        {
          "output_type": "display_data",
          "data": {
            "text/plain": [
              "<Figure size 640x480 with 1 Axes>"
            ],
            "image/png": "[encoded data removed]"
          },
          "metadata": {}
        }
      ]
    },
    {
      "cell_type": "code",
      "source": [
        "import numpy as np\n",
        "def f7(x):\n",
        "  return np.exp(x)\n",
        "\n",
        "plt.plot(x_values, f7(x_values))\n",
        "plt.title('y=e^x')\n",
        "plt.show()"
      ],
      "metadata": {
        "colab": {
          "base_uri": "https://localhost:8080/",
          "height": 452
        },
        "id": "EPInWfwgLtln",
        "outputId": "246468ce-7e68-4aee-8935-37ff0146efba"
      },
      "execution_count": null,
      "outputs": [
        {
          "output_type": "display_data",
          "data": {
            "text/plain": [
              "<Figure size 640x480 with 1 Axes>"
            ],
            "image/png": "[encoded data removed]"
          },
          "metadata": {}
        }
      ]
    },
    {
      "cell_type": "markdown",
      "source": [
        "# 10)\n"
      ],
      "metadata": {
        "id": "8lpMGx2pwtrX"
      }
    },
    {
      "cell_type": "code",
      "source": [
        "import numpy as np\n",
        "import pandas as pd\n",
        "\n",
        "mat = np.random.uniform(1, 2, size=(20, 5))\n",
        "df = pd.DataFrame(data = mat, columns=['a', 'b', 'c', 'd', 'e'] )\n",
        "stdev = df.std(axis=0)\n",
        "avg = df.mean(axis=1)\n",
        "column_dict = {0:'a', 1:'b', 2:'c', 3:'d', 4:'e'}\n",
        "print(f'Standard deviations:\\n {stdev}')\n",
        "print(f'Column with maximum standard deviation: {column_dict[stdev.argmax()]}\\n')\n",
        "print(f'Row with the lowest mean: {avg.argmin()}')"
      ],
      "metadata": {
        "colab": {
          "base_uri": "https://localhost:8080/"
        },
        "id": "TlpH8uYlwxn7",
        "outputId": "433aefbe-ba7d-4b9a-a284-13e6f8beb6e4"
      },
      "execution_count": 10,
      "outputs": [
        {
          "output_type": "stream",
          "name": "stdout",
          "text": [
            "Standard deviations:\n",
            " a    0.288443\n",
            "b    0.323733\n",
            "c    0.281957\n",
            "d    0.290006\n",
            "e    0.299720\n",
            "dtype: float64\n",
            "Column with maximum standard deviation: b\n",
            "\n",
            "Row with the lowest mean: 16\n"
          ]
        }
      ]
    },
    {
      "cell_type": "markdown",
      "source": [
        "# 11"
      ],
      "metadata": {
        "id": "JVHYSckw2ZtQ"
      }
    },
    {
      "cell_type": "code",
      "source": [
        "sum_cols = df.sum(axis=1)\n",
        "df['f'] = sum_cols\n",
        "df"
      ],
      "metadata": {
        "id": "udlxLtOC2Za7",
        "colab": {
          "base_uri": "https://localhost:8080/",
          "height": 676
        },
        "outputId": "79dc7432-25c5-478a-c083-e3554093815d"
      },
      "execution_count": 11,
      "outputs": [
        {
          "output_type": "execute_result",
          "data": {
            "text/plain": [
              "           a         b         c         d         e         f\n",
              "0   1.870414  1.920884  1.052581  1.689050  1.363871  7.896800\n",
              "1   1.269146  1.245727  1.493498  1.064167  1.829690  6.902229\n",
              "2   1.003434  1.823567  1.999315  1.342654  1.434484  7.603455\n",
              "3   1.307268  1.968656  1.405623  1.230921  1.651373  7.563842\n",
              "4   1.722941  1.054282  1.427212  1.393166  1.642839  7.240439\n",
              "5   1.195256  1.025683  1.571128  1.039250  1.812954  6.644271\n",
              "6   1.041927  1.161364  1.790122  1.044109  1.715844  6.753366\n",
              "7   1.473487  1.850817  1.068622  1.712722  1.135444  7.241091\n",
              "8   1.071643  1.655248  1.727163  1.496456  1.724753  7.675262\n",
              "9   1.061893  1.879726  1.642483  1.142073  1.453361  7.179535\n",
              "10  1.541153  1.999131  1.980510  1.087893  1.769218  8.377906\n",
              "11  1.426975  1.184698  1.728853  1.721710  1.282165  7.344401\n",
              "12  1.826093  1.610337  1.775278  1.361059  1.581537  8.154304\n",
              "13  1.816701  1.532032  1.266814  1.596482  1.951495  8.163525\n",
              "14  1.455044  1.378495  1.551322  1.219774  1.014335  6.618970\n",
              "15  1.802766  1.787106  1.390996  1.888054  1.774595  8.643516\n",
              "16  1.171653  1.168973  1.468854  1.219634  1.169066  6.198180\n",
              "17  1.705953  1.655571  1.807826  1.489550  1.962569  8.621469\n",
              "18  1.506025  1.338343  1.753284  1.206729  1.983052  7.787433\n",
              "19  1.444005  1.614795  1.097932  1.991497  1.175488  7.323717"
            ],
            "text/html": [
              "\n",
              "  <div id=\"df-2e0471fb-8b3d-4df6-89de-e5f37f8a16d4\" class=\"colab-df-container\">\n",
              "    <div>\n",
              "<style scoped>\n",
              "    .dataframe tbody tr th:only-of-type {\n",
              "        vertical-align: middle;\n",
              "    }\n",
              "\n",
              "    .dataframe tbody tr th {\n",
              "        vertical-align: top;\n",
              "    }\n",
              "\n",
              "    .dataframe thead th {\n",
              "        text-align: right;\n",
              "    }\n",
              "</style>\n",
              "<table border=\"1\" class=\"dataframe\">\n",
              "  <thead>\n",
              "    <tr style=\"text-align: right;\">\n",
              "      <th></th>\n",
              "      <th>a</th>\n",
              "      <th>b</th>\n",
              "      <th>c</th>\n",
              "      <th>d</th>\n",
              "      <th>e</th>\n",
              "      <th>f</th>\n",
              "    </tr>\n",
              "  </thead>\n",
              "  <tbody>\n",
              "    <tr>\n",
              "      <th>0</th>\n",
              "      <td>1.870414</td>\n",
              "      <td>1.920884</td>\n",
              "      <td>1.052581</td>\n",
              "      <td>1.689050</td>\n",
              "      <td>1.363871</td>\n",
              "      <td>7.896800</td>\n",
              "    </tr>\n",
              "    <tr>\n",
              "      <th>1</th>\n",
              "      <td>1.269146</td>\n",
              "      <td>1.245727</td>\n",
              "      <td>1.493498</td>\n",
              "      <td>1.064167</td>\n",
              "      <td>1.829690</td>\n",
              "      <td>6.902229</td>\n",
              "    </tr>\n",
              "    <tr>\n",
              "      <th>2</th>\n",
              "      <td>1.003434</td>\n",
              "      <td>1.823567</td>\n",
              "      <td>1.999315</td>\n",
              "      <td>1.342654</td>\n",
              "      <td>1.434484</td>\n",
              "      <td>7.603455</td>\n",
              "    </tr>\n",
              "    <tr>\n",
              "      <th>3</th>\n",
              "      <td>1.307268</td>\n",
              "      <td>1.968656</td>\n",
              "      <td>1.405623</td>\n",
              "      <td>1.230921</td>\n",
              "      <td>1.651373</td>\n",
              "      <td>7.563842</td>\n",
              "    </tr>\n",
              "    <tr>\n",
              "      <th>4</th>\n",
              "      <td>1.722941</td>\n",
              "      <td>1.054282</td>\n",
              "      <td>1.427212</td>\n",
              "      <td>1.393166</td>\n",
              "      <td>1.642839</td>\n",
              "      <td>7.240439</td>\n",
              "    </tr>\n",
              "    <tr>\n",
              "      <th>5</th>\n",
              "      <td>1.195256</td>\n",
              "      <td>1.025683</td>\n",
              "      <td>1.571128</td>\n",
              "      <td>1.039250</td>\n",
              "      <td>1.812954</td>\n",
              "      <td>6.644271</td>\n",
              "    </tr>\n",
              "    <tr>\n",
              "      <th>6</th>\n",
              "      <td>1.041927</td>\n",
              "      <td>1.161364</td>\n",
              "      <td>1.790122</td>\n",
              "      <td>1.044109</td>\n",
              "      <td>1.715844</td>\n",
              "      <td>6.753366</td>\n",
              "    </tr>\n",
              "    <tr>\n",
              "      <th>7</th>\n",
              "      <td>1.473487</td>\n",
              "      <td>1.850817</td>\n",
              "      <td>1.068622</td>\n",
              "      <td>1.712722</td>\n",
              "      <td>1.135444</td>\n",
              "      <td>7.241091</td>\n",
              "    </tr>\n",
              "    <tr>\n",
              "      <th>8</th>\n",
              "      <td>1.071643</td>\n",
              "      <td>1.655248</td>\n",
              "      <td>1.727163</td>\n",
              "      <td>1.496456</td>\n",
              "      <td>1.724753</td>\n",
              "      <td>7.675262</td>\n",
              "    </tr>\n",
              "    <tr>\n",
              "      <th>9</th>\n",
              "      <td>1.061893</td>\n",
              "      <td>1.879726</td>\n",
              "      <td>1.642483</td>\n",
              "      <td>1.142073</td>\n",
              "      <td>1.453361</td>\n",
              "      <td>7.179535</td>\n",
              "    </tr>\n",
              "    <tr>\n",
              "      <th>10</th>\n",
              "      <td>1.541153</td>\n",
              "      <td>1.999131</td>\n",
              "      <td>1.980510</td>\n",
              "      <td>1.087893</td>\n",
              "      <td>1.769218</td>\n",
              "      <td>8.377906</td>\n",
              "    </tr>\n",
              "    <tr>\n",
              "      <th>11</th>\n",
              "      <td>1.426975</td>\n",
              "      <td>1.184698</td>\n",
              "      <td>1.728853</td>\n",
              "      <td>1.721710</td>\n",
              "      <td>1.282165</td>\n",
              "      <td>7.344401</td>\n",
              "    </tr>\n",
              "    <tr>\n",
              "      <th>12</th>\n",
              "      <td>1.826093</td>\n",
              "      <td>1.610337</td>\n",
              "      <td>1.775278</td>\n",
              "      <td>1.361059</td>\n",
              "      <td>1.581537</td>\n",
              "      <td>8.154304</td>\n",
              "    </tr>\n",
              "    <tr>\n",
              "      <th>13</th>\n",
              "      <td>1.816701</td>\n",
              "      <td>1.532032</td>\n",
              "      <td>1.266814</td>\n",
              "      <td>1.596482</td>\n",
              "      <td>1.951495</td>\n",
              "      <td>8.163525</td>\n",
              "    </tr>\n",
              "    <tr>\n",
              "      <th>14</th>\n",
              "      <td>1.455044</td>\n",
              "      <td>1.378495</td>\n",
              "      <td>1.551322</td>\n",
              "      <td>1.219774</td>\n",
              "      <td>1.014335</td>\n",
              "      <td>6.618970</td>\n",
              "    </tr>\n",
              "    <tr>\n",
              "      <th>15</th>\n",
              "      <td>1.802766</td>\n",
              "      <td>1.787106</td>\n",
              "      <td>1.390996</td>\n",
              "      <td>1.888054</td>\n",
              "      <td>1.774595</td>\n",
              "      <td>8.643516</td>\n",
              "    </tr>\n",
              "    <tr>\n",
              "      <th>16</th>\n",
              "      <td>1.171653</td>\n",
              "      <td>1.168973</td>\n",
              "      <td>1.468854</td>\n",
              "      <td>1.219634</td>\n",
              "      <td>1.169066</td>\n",
              "      <td>6.198180</td>\n",
              "    </tr>\n",
              "    <tr>\n",
              "      <th>17</th>\n",
              "      <td>1.705953</td>\n",
              "      <td>1.655571</td>\n",
              "      <td>1.807826</td>\n",
              "      <td>1.489550</td>\n",
              "      <td>1.962569</td>\n",
              "      <td>8.621469</td>\n",
              "    </tr>\n",
              "    <tr>\n",
              "      <th>18</th>\n",
              "      <td>1.506025</td>\n",
              "      <td>1.338343</td>\n",
              "      <td>1.753284</td>\n",
              "      <td>1.206729</td>\n",
              "      <td>1.983052</td>\n",
              "      <td>7.787433</td>\n",
              "    </tr>\n",
              "    <tr>\n",
              "      <th>19</th>\n",
              "      <td>1.444005</td>\n",
              "      <td>1.614795</td>\n",
              "      <td>1.097932</td>\n",
              "      <td>1.991497</td>\n",
              "      <td>1.175488</td>\n",
              "      <td>7.323717</td>\n",
              "    </tr>\n",
              "  </tbody>\n",
              "</table>\n",
              "</div>\n",
              "    <div class=\"colab-df-buttons\">\n",
              "\n",
              "  <div class=\"colab-df-container\">\n",
              "    <button class=\"colab-df-convert\" onclick=\"convertToInteractive('df-2e0471fb-8b3d-4df6-89de-e5f37f8a16d4')\"\n",
              "            title=\"Convert this dataframe to an interactive table.\"\n",
              "            style=\"display:none;\">\n",
              "\n",
              "  <svg xmlns=\"http://www.w3.org/2000/svg\" height=\"24px\" viewBox=\"0 -960 960 960\">\n",
              "    <path d=\"M120-120v-720h720v720H120Zm60-500h600v-160H180v160Zm220 220h160v-160H400v160Zm0 220h160v-160H400v160ZM180-400h160v-160H180v160Zm440 0h160v-160H620v160ZM180-180h160v-160H180v160Zm440 0h160v-160H620v160Z\"/>\n",
              "  </svg>\n",
              "    </button>\n",
              "\n",
              "  <style>\n",
              "    .colab-df-container {\n",
              "      display:flex;\n",
              "      gap: 12px;\n",
              "    }\n",
              "\n",
              "    .colab-df-convert {\n",
              "      background-color: #E8F0FE;\n",
              "      border: none;\n",
              "      border-radius: 50%;\n",
              "      cursor: pointer;\n",
              "      display: none;\n",
              "      fill: #1967D2;\n",
              "      height: 32px;\n",
              "      padding: 0 0 0 0;\n",
              "      width: 32px;\n",
              "    }\n",
              "\n",
              "    .colab-df-convert:hover {\n",
              "      background-color: #E2EBFA;\n",
              "      box-shadow: 0px 1px 2px rgba(60, 64, 67, 0.3), 0px 1px 3px 1px rgba(60, 64, 67, 0.15);\n",
              "      fill: #174EA6;\n",
              "    }\n",
              "\n",
              "    .colab-df-buttons div {\n",
              "      margin-bottom: 4px;\n",
              "    }\n",
              "\n",
              "    [theme=dark] .colab-df-convert {\n",
              "      background-color: #3B4455;\n",
              "      fill: #D2E3FC;\n",
              "    }\n",
              "\n",
              "    [theme=dark] .colab-df-convert:hover {\n",
              "      background-color: #434B5C;\n",
              "      box-shadow: 0px 1px 3px 1px rgba(0, 0, 0, 0.15);\n",
              "      filter: drop-shadow(0px 1px 2px rgba(0, 0, 0, 0.3));\n",
              "      fill: #FFFFFF;\n",
              "    }\n",
              "  </style>\n",
              "\n",
              "    <script>\n",
              "      const buttonEl =\n",
              "        document.querySelector('#df-2e0471fb-8b3d-4df6-89de-e5f37f8a16d4 button.colab-df-convert');\n",
              "      buttonEl.style.display =\n",
              "        google.colab.kernel.accessAllowed ? 'block' : 'none';\n",
              "\n",
              "      async function convertToInteractive(key) {\n",
              "        const element = document.querySelector('#df-2e0471fb-8b3d-4df6-89de-e5f37f8a16d4');\n",
              "        const dataTable =\n",
              "          await google.colab.kernel.invokeFunction('convertToInteractive',\n",
              "                                                    [key], {});\n",
              "        if (!dataTable) return;\n",
              "\n",
              "        const docLinkHtml = 'Like what you see? Visit the ' +\n",
              "          '<a target=\"_blank\" href=https://colab.research.google.com/notebooks/data_table.ipynb>data table notebook</a>'\n",
              "          + ' to learn more about interactive tables.';\n",
              "        element.innerHTML = '';\n",
              "        dataTable['output_type'] = 'display_data';\n",
              "        await google.colab.output.renderOutput(dataTable, element);\n",
              "        const docLink = document.createElement('div');\n",
              "        docLink.innerHTML = docLinkHtml;\n",
              "        element.appendChild(docLink);\n",
              "      }\n",
              "    </script>\n",
              "  </div>\n",
              "\n",
              "\n",
              "<div id=\"df-10779b77-cb62-4b56-b273-3362f9c574a8\">\n",
              "  <button class=\"colab-df-quickchart\" onclick=\"quickchart('df-10779b77-cb62-4b56-b273-3362f9c574a8')\"\n",
              "            title=\"Suggest charts\"\n",
              "            style=\"display:none;\">\n",
              "\n",
              "<svg xmlns=\"http://www.w3.org/2000/svg\" height=\"24px\"viewBox=\"0 0 24 24\"\n",
              "     width=\"24px\">\n",
              "    <g>\n",
              "        <path d=\"M19 3H5c-1.1 0-2 .9-2 2v14c0 1.1.9 2 2 2h14c1.1 0 2-.9 2-2V5c0-1.1-.9-2-2-2zM9 17H7v-7h2v7zm4 0h-2V7h2v10zm4 0h-2v-4h2v4z\"/>\n",
              "    </g>\n",
              "</svg>\n",
              "  </button>\n",
              "\n",
              "<style>\n",
              "  .colab-df-quickchart {\n",
              "      --bg-color: #E8F0FE;\n",
              "      --fill-color: #1967D2;\n",
              "      --hover-bg-color: #E2EBFA;\n",
              "      --hover-fill-color: #174EA6;\n",
              "      --disabled-fill-color: #AAA;\n",
              "      --disabled-bg-color: #DDD;\n",
              "  }\n",
              "\n",
              "  [theme=dark] .colab-df-quickchart {\n",
              "      --bg-color: #3B4455;\n",
              "      --fill-color: #D2E3FC;\n",
              "      --hover-bg-color: #434B5C;\n",
              "      --hover-fill-color: #FFFFFF;\n",
              "      --disabled-bg-color: #3B4455;\n",
              "      --disabled-fill-color: #666;\n",
              "  }\n",
              "\n",
              "  .colab-df-quickchart {\n",
              "    background-color: var(--bg-color);\n",
              "    border: none;\n",
              "    border-radius: 50%;\n",
              "    cursor: pointer;\n",
              "    display: none;\n",
              "    fill: var(--fill-color);\n",
              "    height: 32px;\n",
              "    padding: 0;\n",
              "    width: 32px;\n",
              "  }\n",
              "\n",
              "  .colab-df-quickchart:hover {\n",
              "    background-color: var(--hover-bg-color);\n",
              "    box-shadow: 0 1px 2px rgba(60, 64, 67, 0.3), 0 1px 3px 1px rgba(60, 64, 67, 0.15);\n",
              "    fill: var(--button-hover-fill-color);\n",
              "  }\n",
              "\n",
              "  .colab-df-quickchart-complete:disabled,\n",
              "  .colab-df-quickchart-complete:disabled:hover {\n",
              "    background-color: var(--disabled-bg-color);\n",
              "    fill: var(--disabled-fill-color);\n",
              "    box-shadow: none;\n",
              "  }\n",
              "\n",
              "  .colab-df-spinner {\n",
              "    border: 2px solid var(--fill-color);\n",
              "    border-color: transparent;\n",
              "    border-bottom-color: var(--fill-color);\n",
              "    animation:\n",
              "      spin 1s steps(1) infinite;\n",
              "  }\n",
              "\n",
              "  @keyframes spin {\n",
              "    0% {\n",
              "      border-color: transparent;\n",
              "      border-bottom-color: var(--fill-color);\n",
              "      border-left-color: var(--fill-color);\n",
              "    }\n",
              "    20% {\n",
              "      border-color: transparent;\n",
              "      border-left-color: var(--fill-color);\n",
              "      border-top-color: var(--fill-color);\n",
              "    }\n",
              "    30% {\n",
              "      border-color: transparent;\n",
              "      border-left-color: var(--fill-color);\n",
              "      border-top-color: var(--fill-color);\n",
              "      border-right-color: var(--fill-color);\n",
              "    }\n",
              "    40% {\n",
              "      border-color: transparent;\n",
              "      border-right-color: var(--fill-color);\n",
              "      border-top-color: var(--fill-color);\n",
              "    }\n",
              "    60% {\n",
              "      border-color: transparent;\n",
              "      border-right-color: var(--fill-color);\n",
              "    }\n",
              "    80% {\n",
              "      border-color: transparent;\n",
              "      border-right-color: var(--fill-color);\n",
              "      border-bottom-color: var(--fill-color);\n",
              "    }\n",
              "    90% {\n",
              "      border-color: transparent;\n",
              "      border-bottom-color: var(--fill-color);\n",
              "    }\n",
              "  }\n",
              "</style>\n",
              "\n",
              "  <script>\n",
              "    async function quickchart(key) {\n",
              "      const quickchartButtonEl =\n",
              "        document.querySelector('#' + key + ' button');\n",
              "      quickchartButtonEl.disabled = true;  // To prevent multiple clicks.\n",
              "      quickchartButtonEl.classList.add('colab-df-spinner');\n",
              "      try {\n",
              "        const charts = await google.colab.kernel.invokeFunction(\n",
              "            'suggestCharts', [key], {});\n",
              "      } catch (error) {\n",
              "        console.error('Error during call to suggestCharts:', error);\n",
              "      }\n",
              "      quickchartButtonEl.classList.remove('colab-df-spinner');\n",
              "      quickchartButtonEl.classList.add('colab-df-quickchart-complete');\n",
              "    }\n",
              "    (() => {\n",
              "      let quickchartButtonEl =\n",
              "        document.querySelector('#df-10779b77-cb62-4b56-b273-3362f9c574a8 button');\n",
              "      quickchartButtonEl.style.display =\n",
              "        google.colab.kernel.accessAllowed ? 'block' : 'none';\n",
              "    })();\n",
              "  </script>\n",
              "</div>\n",
              "    </div>\n",
              "  </div>\n"
            ]
          },
          "metadata": {},
          "execution_count": 11
        }
      ]
    },
    {
      "cell_type": "code",
      "source": [
        "def comp8(x):\n",
        "  if x<8:\n",
        "    return 'LT8'\n",
        "  else:\n",
        "    return 'GT8'\n",
        "\n",
        "df['g'] = df['f'].apply(comp8)\n",
        "df"
      ],
      "metadata": {
        "id": "K6CYTWL82WXe",
        "colab": {
          "base_uri": "https://localhost:8080/",
          "height": 676
        },
        "outputId": "100c6271-be42-488b-a22d-d5c334bb3933"
      },
      "execution_count": 12,
      "outputs": [
        {
          "output_type": "execute_result",
          "data": {
            "text/plain": [
              "           a         b         c         d         e         f    g\n",
              "0   1.870414  1.920884  1.052581  1.689050  1.363871  7.896800  LT8\n",
              "1   1.269146  1.245727  1.493498  1.064167  1.829690  6.902229  LT8\n",
              "2   1.003434  1.823567  1.999315  1.342654  1.434484  7.603455  LT8\n",
              "3   1.307268  1.968656  1.405623  1.230921  1.651373  7.563842  LT8\n",
              "4   1.722941  1.054282  1.427212  1.393166  1.642839  7.240439  LT8\n",
              "5   1.195256  1.025683  1.571128  1.039250  1.812954  6.644271  LT8\n",
              "6   1.041927  1.161364  1.790122  1.044109  1.715844  6.753366  LT8\n",
              "7   1.473487  1.850817  1.068622  1.712722  1.135444  7.241091  LT8\n",
              "8   1.071643  1.655248  1.727163  1.496456  1.724753  7.675262  LT8\n",
              "9   1.061893  1.879726  1.642483  1.142073  1.453361  7.179535  LT8\n",
              "10  1.541153  1.999131  1.980510  1.087893  1.769218  8.377906  GT8\n",
              "11  1.426975  1.184698  1.728853  1.721710  1.282165  7.344401  LT8\n",
              "12  1.826093  1.610337  1.775278  1.361059  1.581537  8.154304  GT8\n",
              "13  1.816701  1.532032  1.266814  1.596482  1.951495  8.163525  GT8\n",
              "14  1.455044  1.378495  1.551322  1.219774  1.014335  6.618970  LT8\n",
              "15  1.802766  1.787106  1.390996  1.888054  1.774595  8.643516  GT8\n",
              "16  1.171653  1.168973  1.468854  1.219634  1.169066  6.198180  LT8\n",
              "17  1.705953  1.655571  1.807826  1.489550  1.962569  8.621469  GT8\n",
              "18  1.506025  1.338343  1.753284  1.206729  1.983052  7.787433  LT8\n",
              "19  1.444005  1.614795  1.097932  1.991497  1.175488  7.323717  LT8"
            ],
            "text/html": [
              "\n",
              "  <div id=\"df-e3f2d0f8-f005-48d2-94be-ee01396d1f75\" class=\"colab-df-container\">\n",
              "    <div>\n",
              "<style scoped>\n",
              "    .dataframe tbody tr th:only-of-type {\n",
              "        vertical-align: middle;\n",
              "    }\n",
              "\n",
              "    .dataframe tbody tr th {\n",
              "        vertical-align: top;\n",
              "    }\n",
              "\n",
              "    .dataframe thead th {\n",
              "        text-align: right;\n",
              "    }\n",
              "</style>\n",
              "<table border=\"1\" class=\"dataframe\">\n",
              "  <thead>\n",
              "    <tr style=\"text-align: right;\">\n",
              "      <th></th>\n",
              "      <th>a</th>\n",
              "      <th>b</th>\n",
              "      <th>c</th>\n",
              "      <th>d</th>\n",
              "      <th>e</th>\n",
              "      <th>f</th>\n",
              "      <th>g</th>\n",
              "    </tr>\n",
              "  </thead>\n",
              "  <tbody>\n",
              "    <tr>\n",
              "      <th>0</th>\n",
              "      <td>1.870414</td>\n",
              "      <td>1.920884</td>\n",
              "      <td>1.052581</td>\n",
              "      <td>1.689050</td>\n",
              "      <td>1.363871</td>\n",
              "      <td>7.896800</td>\n",
              "      <td>LT8</td>\n",
              "    </tr>\n",
              "    <tr>\n",
              "      <th>1</th>\n",
              "      <td>1.269146</td>\n",
              "      <td>1.245727</td>\n",
              "      <td>1.493498</td>\n",
              "      <td>1.064167</td>\n",
              "      <td>1.829690</td>\n",
              "      <td>6.902229</td>\n",
              "      <td>LT8</td>\n",
              "    </tr>\n",
              "    <tr>\n",
              "      <th>2</th>\n",
              "      <td>1.003434</td>\n",
              "      <td>1.823567</td>\n",
              "      <td>1.999315</td>\n",
              "      <td>1.342654</td>\n",
              "      <td>1.434484</td>\n",
              "      <td>7.603455</td>\n",
              "      <td>LT8</td>\n",
              "    </tr>\n",
              "    <tr>\n",
              "      <th>3</th>\n",
              "      <td>1.307268</td>\n",
              "      <td>1.968656</td>\n",
              "      <td>1.405623</td>\n",
              "      <td>1.230921</td>\n",
              "      <td>1.651373</td>\n",
              "      <td>7.563842</td>\n",
              "      <td>LT8</td>\n",
              "    </tr>\n",
              "    <tr>\n",
              "      <th>4</th>\n",
              "      <td>1.722941</td>\n",
              "      <td>1.054282</td>\n",
              "      <td>1.427212</td>\n",
              "      <td>1.393166</td>\n",
              "      <td>1.642839</td>\n",
              "      <td>7.240439</td>\n",
              "      <td>LT8</td>\n",
              "    </tr>\n",
              "    <tr>\n",
              "      <th>5</th>\n",
              "      <td>1.195256</td>\n",
              "      <td>1.025683</td>\n",
              "      <td>1.571128</td>\n",
              "      <td>1.039250</td>\n",
              "      <td>1.812954</td>\n",
              "      <td>6.644271</td>\n",
              "      <td>LT8</td>\n",
              "    </tr>\n",
              "    <tr>\n",
              "      <th>6</th>\n",
              "      <td>1.041927</td>\n",
              "      <td>1.161364</td>\n",
              "      <td>1.790122</td>\n",
              "      <td>1.044109</td>\n",
              "      <td>1.715844</td>\n",
              "      <td>6.753366</td>\n",
              "      <td>LT8</td>\n",
              "    </tr>\n",
              "    <tr>\n",
              "      <th>7</th>\n",
              "      <td>1.473487</td>\n",
              "      <td>1.850817</td>\n",
              "      <td>1.068622</td>\n",
              "      <td>1.712722</td>\n",
              "      <td>1.135444</td>\n",
              "      <td>7.241091</td>\n",
              "      <td>LT8</td>\n",
              "    </tr>\n",
              "    <tr>\n",
              "      <th>8</th>\n",
              "      <td>1.071643</td>\n",
              "      <td>1.655248</td>\n",
              "      <td>1.727163</td>\n",
              "      <td>1.496456</td>\n",
              "      <td>1.724753</td>\n",
              "      <td>7.675262</td>\n",
              "      <td>LT8</td>\n",
              "    </tr>\n",
              "    <tr>\n",
              "      <th>9</th>\n",
              "      <td>1.061893</td>\n",
              "      <td>1.879726</td>\n",
              "      <td>1.642483</td>\n",
              "      <td>1.142073</td>\n",
              "      <td>1.453361</td>\n",
              "      <td>7.179535</td>\n",
              "      <td>LT8</td>\n",
              "    </tr>\n",
              "    <tr>\n",
              "      <th>10</th>\n",
              "      <td>1.541153</td>\n",
              "      <td>1.999131</td>\n",
              "      <td>1.980510</td>\n",
              "      <td>1.087893</td>\n",
              "      <td>1.769218</td>\n",
              "      <td>8.377906</td>\n",
              "      <td>GT8</td>\n",
              "    </tr>\n",
              "    <tr>\n",
              "      <th>11</th>\n",
              "      <td>1.426975</td>\n",
              "      <td>1.184698</td>\n",
              "      <td>1.728853</td>\n",
              "      <td>1.721710</td>\n",
              "      <td>1.282165</td>\n",
              "      <td>7.344401</td>\n",
              "      <td>LT8</td>\n",
              "    </tr>\n",
              "    <tr>\n",
              "      <th>12</th>\n",
              "      <td>1.826093</td>\n",
              "      <td>1.610337</td>\n",
              "      <td>1.775278</td>\n",
              "      <td>1.361059</td>\n",
              "      <td>1.581537</td>\n",
              "      <td>8.154304</td>\n",
              "      <td>GT8</td>\n",
              "    </tr>\n",
              "    <tr>\n",
              "      <th>13</th>\n",
              "      <td>1.816701</td>\n",
              "      <td>1.532032</td>\n",
              "      <td>1.266814</td>\n",
              "      <td>1.596482</td>\n",
              "      <td>1.951495</td>\n",
              "      <td>8.163525</td>\n",
              "      <td>GT8</td>\n",
              "    </tr>\n",
              "    <tr>\n",
              "      <th>14</th>\n",
              "      <td>1.455044</td>\n",
              "      <td>1.378495</td>\n",
              "      <td>1.551322</td>\n",
              "      <td>1.219774</td>\n",
              "      <td>1.014335</td>\n",
              "      <td>6.618970</td>\n",
              "      <td>LT8</td>\n",
              "    </tr>\n",
              "    <tr>\n",
              "      <th>15</th>\n",
              "      <td>1.802766</td>\n",
              "      <td>1.787106</td>\n",
              "      <td>1.390996</td>\n",
              "      <td>1.888054</td>\n",
              "      <td>1.774595</td>\n",
              "      <td>8.643516</td>\n",
              "      <td>GT8</td>\n",
              "    </tr>\n",
              "    <tr>\n",
              "      <th>16</th>\n",
              "      <td>1.171653</td>\n",
              "      <td>1.168973</td>\n",
              "      <td>1.468854</td>\n",
              "      <td>1.219634</td>\n",
              "      <td>1.169066</td>\n",
              "      <td>6.198180</td>\n",
              "      <td>LT8</td>\n",
              "    </tr>\n",
              "    <tr>\n",
              "      <th>17</th>\n",
              "      <td>1.705953</td>\n",
              "      <td>1.655571</td>\n",
              "      <td>1.807826</td>\n",
              "      <td>1.489550</td>\n",
              "      <td>1.962569</td>\n",
              "      <td>8.621469</td>\n",
              "      <td>GT8</td>\n",
              "    </tr>\n",
              "    <tr>\n",
              "      <th>18</th>\n",
              "      <td>1.506025</td>\n",
              "      <td>1.338343</td>\n",
              "      <td>1.753284</td>\n",
              "      <td>1.206729</td>\n",
              "      <td>1.983052</td>\n",
              "      <td>7.787433</td>\n",
              "      <td>LT8</td>\n",
              "    </tr>\n",
              "    <tr>\n",
              "      <th>19</th>\n",
              "      <td>1.444005</td>\n",
              "      <td>1.614795</td>\n",
              "      <td>1.097932</td>\n",
              "      <td>1.991497</td>\n",
              "      <td>1.175488</td>\n",
              "      <td>7.323717</td>\n",
              "      <td>LT8</td>\n",
              "    </tr>\n",
              "  </tbody>\n",
              "</table>\n",
              "</div>\n",
              "    <div class=\"colab-df-buttons\">\n",
              "\n",
              "  <div class=\"colab-df-container\">\n",
              "    <button class=\"colab-df-convert\" onclick=\"convertToInteractive('df-e3f2d0f8-f005-48d2-94be-ee01396d1f75')\"\n",
              "            title=\"Convert this dataframe to an interactive table.\"\n",
              "            style=\"display:none;\">\n",
              "\n",
              "  <svg xmlns=\"http://www.w3.org/2000/svg\" height=\"24px\" viewBox=\"0 -960 960 960\">\n",
              "    <path d=\"M120-120v-720h720v720H120Zm60-500h600v-160H180v160Zm220 220h160v-160H400v160Zm0 220h160v-160H400v160ZM180-400h160v-160H180v160Zm440 0h160v-160H620v160ZM180-180h160v-160H180v160Zm440 0h160v-160H620v160Z\"/>\n",
              "  </svg>\n",
              "    </button>\n",
              "\n",
              "  <style>\n",
              "    .colab-df-container {\n",
              "      display:flex;\n",
              "      gap: 12px;\n",
              "    }\n",
              "\n",
              "    .colab-df-convert {\n",
              "      background-color: #E8F0FE;\n",
              "      border: none;\n",
              "      border-radius: 50%;\n",
              "      cursor: pointer;\n",
              "      display: none;\n",
              "      fill: #1967D2;\n",
              "      height: 32px;\n",
              "      padding: 0 0 0 0;\n",
              "      width: 32px;\n",
              "    }\n",
              "\n",
              "    .colab-df-convert:hover {\n",
              "      background-color: #E2EBFA;\n",
              "      box-shadow: 0px 1px 2px rgba(60, 64, 67, 0.3), 0px 1px 3px 1px rgba(60, 64, 67, 0.15);\n",
              "      fill: #174EA6;\n",
              "    }\n",
              "\n",
              "    .colab-df-buttons div {\n",
              "      margin-bottom: 4px;\n",
              "    }\n",
              "\n",
              "    [theme=dark] .colab-df-convert {\n",
              "      background-color: #3B4455;\n",
              "      fill: #D2E3FC;\n",
              "    }\n",
              "\n",
              "    [theme=dark] .colab-df-convert:hover {\n",
              "      background-color: #434B5C;\n",
              "      box-shadow: 0px 1px 3px 1px rgba(0, 0, 0, 0.15);\n",
              "      filter: drop-shadow(0px 1px 2px rgba(0, 0, 0, 0.3));\n",
              "      fill: #FFFFFF;\n",
              "    }\n",
              "  </style>\n",
              "\n",
              "    <script>\n",
              "      const buttonEl =\n",
              "        document.querySelector('#df-e3f2d0f8-f005-48d2-94be-ee01396d1f75 button.colab-df-convert');\n",
              "      buttonEl.style.display =\n",
              "        google.colab.kernel.accessAllowed ? 'block' : 'none';\n",
              "\n",
              "      async function convertToInteractive(key) {\n",
              "        const element = document.querySelector('#df-e3f2d0f8-f005-48d2-94be-ee01396d1f75');\n",
              "        const dataTable =\n",
              "          await google.colab.kernel.invokeFunction('convertToInteractive',\n",
              "                                                    [key], {});\n",
              "        if (!dataTable) return;\n",
              "\n",
              "        const docLinkHtml = 'Like what you see? Visit the ' +\n",
              "          '<a target=\"_blank\" href=https://colab.research.google.com/notebooks/data_table.ipynb>data table notebook</a>'\n",
              "          + ' to learn more about interactive tables.';\n",
              "        element.innerHTML = '';\n",
              "        dataTable['output_type'] = 'display_data';\n",
              "        await google.colab.output.renderOutput(dataTable, element);\n",
              "        const docLink = document.createElement('div');\n",
              "        docLink.innerHTML = docLinkHtml;\n",
              "        element.appendChild(docLink);\n",
              "      }\n",
              "    </script>\n",
              "  </div>\n",
              "\n",
              "\n",
              "<div id=\"df-85d32eb7-a0fc-4bdb-ac72-e6bb6340ffe5\">\n",
              "  <button class=\"colab-df-quickchart\" onclick=\"quickchart('df-85d32eb7-a0fc-4bdb-ac72-e6bb6340ffe5')\"\n",
              "            title=\"Suggest charts\"\n",
              "            style=\"display:none;\">\n",
              "\n",
              "<svg xmlns=\"http://www.w3.org/2000/svg\" height=\"24px\"viewBox=\"0 0 24 24\"\n",
              "     width=\"24px\">\n",
              "    <g>\n",
              "        <path d=\"M19 3H5c-1.1 0-2 .9-2 2v14c0 1.1.9 2 2 2h14c1.1 0 2-.9 2-2V5c0-1.1-.9-2-2-2zM9 17H7v-7h2v7zm4 0h-2V7h2v10zm4 0h-2v-4h2v4z\"/>\n",
              "    </g>\n",
              "</svg>\n",
              "  </button>\n",
              "\n",
              "<style>\n",
              "  .colab-df-quickchart {\n",
              "      --bg-color: #E8F0FE;\n",
              "      --fill-color: #1967D2;\n",
              "      --hover-bg-color: #E2EBFA;\n",
              "      --hover-fill-color: #174EA6;\n",
              "      --disabled-fill-color: #AAA;\n",
              "      --disabled-bg-color: #DDD;\n",
              "  }\n",
              "\n",
              "  [theme=dark] .colab-df-quickchart {\n",
              "      --bg-color: #3B4455;\n",
              "      --fill-color: #D2E3FC;\n",
              "      --hover-bg-color: #434B5C;\n",
              "      --hover-fill-color: #FFFFFF;\n",
              "      --disabled-bg-color: #3B4455;\n",
              "      --disabled-fill-color: #666;\n",
              "  }\n",
              "\n",
              "  .colab-df-quickchart {\n",
              "    background-color: var(--bg-color);\n",
              "    border: none;\n",
              "    border-radius: 50%;\n",
              "    cursor: pointer;\n",
              "    display: none;\n",
              "    fill: var(--fill-color);\n",
              "    height: 32px;\n",
              "    padding: 0;\n",
              "    width: 32px;\n",
              "  }\n",
              "\n",
              "  .colab-df-quickchart:hover {\n",
              "    background-color: var(--hover-bg-color);\n",
              "    box-shadow: 0 1px 2px rgba(60, 64, 67, 0.3), 0 1px 3px 1px rgba(60, 64, 67, 0.15);\n",
              "    fill: var(--button-hover-fill-color);\n",
              "  }\n",
              "\n",
              "  .colab-df-quickchart-complete:disabled,\n",
              "  .colab-df-quickchart-complete:disabled:hover {\n",
              "    background-color: var(--disabled-bg-color);\n",
              "    fill: var(--disabled-fill-color);\n",
              "    box-shadow: none;\n",
              "  }\n",
              "\n",
              "  .colab-df-spinner {\n",
              "    border: 2px solid var(--fill-color);\n",
              "    border-color: transparent;\n",
              "    border-bottom-color: var(--fill-color);\n",
              "    animation:\n",
              "      spin 1s steps(1) infinite;\n",
              "  }\n",
              "\n",
              "  @keyframes spin {\n",
              "    0% {\n",
              "      border-color: transparent;\n",
              "      border-bottom-color: var(--fill-color);\n",
              "      border-left-color: var(--fill-color);\n",
              "    }\n",
              "    20% {\n",
              "      border-color: transparent;\n",
              "      border-left-color: var(--fill-color);\n",
              "      border-top-color: var(--fill-color);\n",
              "    }\n",
              "    30% {\n",
              "      border-color: transparent;\n",
              "      border-left-color: var(--fill-color);\n",
              "      border-top-color: var(--fill-color);\n",
              "      border-right-color: var(--fill-color);\n",
              "    }\n",
              "    40% {\n",
              "      border-color: transparent;\n",
              "      border-right-color: var(--fill-color);\n",
              "      border-top-color: var(--fill-color);\n",
              "    }\n",
              "    60% {\n",
              "      border-color: transparent;\n",
              "      border-right-color: var(--fill-color);\n",
              "    }\n",
              "    80% {\n",
              "      border-color: transparent;\n",
              "      border-right-color: var(--fill-color);\n",
              "      border-bottom-color: var(--fill-color);\n",
              "    }\n",
              "    90% {\n",
              "      border-color: transparent;\n",
              "      border-bottom-color: var(--fill-color);\n",
              "    }\n",
              "  }\n",
              "</style>\n",
              "\n",
              "  <script>\n",
              "    async function quickchart(key) {\n",
              "      const quickchartButtonEl =\n",
              "        document.querySelector('#' + key + ' button');\n",
              "      quickchartButtonEl.disabled = true;  // To prevent multiple clicks.\n",
              "      quickchartButtonEl.classList.add('colab-df-spinner');\n",
              "      try {\n",
              "        const charts = await google.colab.kernel.invokeFunction(\n",
              "            'suggestCharts', [key], {});\n",
              "      } catch (error) {\n",
              "        console.error('Error during call to suggestCharts:', error);\n",
              "      }\n",
              "      quickchartButtonEl.classList.remove('colab-df-spinner');\n",
              "      quickchartButtonEl.classList.add('colab-df-quickchart-complete');\n",
              "    }\n",
              "    (() => {\n",
              "      let quickchartButtonEl =\n",
              "        document.querySelector('#df-85d32eb7-a0fc-4bdb-ac72-e6bb6340ffe5 button');\n",
              "      quickchartButtonEl.style.display =\n",
              "        google.colab.kernel.accessAllowed ? 'block' : 'none';\n",
              "    })();\n",
              "  </script>\n",
              "</div>\n",
              "    </div>\n",
              "  </div>\n"
            ]
          },
          "metadata": {},
          "execution_count": 12
        }
      ]
    },
    {
      "cell_type": "code",
      "source": [
        "print('Standard deviation in column f for LT8:')\n",
        "df.query('g==\"LT8\"')['f'].std()"
      ],
      "metadata": {
        "colab": {
          "base_uri": "https://localhost:8080/"
        },
        "id": "DL7JwBDs5E3i",
        "outputId": "9570a095-07a2-4faa-c65e-3cb017f792d0"
      },
      "execution_count": 13,
      "outputs": [
        {
          "output_type": "stream",
          "name": "stdout",
          "text": [
            "Standard deviation in column f for LT8:\n"
          ]
        },
        {
          "output_type": "execute_result",
          "data": {
            "text/plain": [
              "0.48768501570447753"
            ]
          },
          "metadata": {},
          "execution_count": 13
        }
      ]
    },
    {
      "cell_type": "code",
      "source": [
        "print('Standard deviation in column f for GT8:')\n",
        "df.query('g==\"GT8\"')['f'].std()"
      ],
      "metadata": {
        "colab": {
          "base_uri": "https://localhost:8080/"
        },
        "id": "tCfeqRHo6gJk",
        "outputId": "6385bf63-b70a-441f-9ac6-a29857354022"
      },
      "execution_count": 14,
      "outputs": [
        {
          "output_type": "stream",
          "name": "stdout",
          "text": [
            "Standard deviation in column f for GT8:\n"
          ]
        },
        {
          "output_type": "execute_result",
          "data": {
            "text/plain": [
              "0.23707327377180634"
            ]
          },
          "metadata": {},
          "execution_count": 14
        }
      ]
    },
    {
      "cell_type": "markdown",
      "source": [
        "# 13)\n"
      ],
      "metadata": {
        "id": "Kh3SPIiC6qSn"
      }
    },
    {
      "cell_type": "code",
      "source": [
        "import numpy as np\n",
        "\n",
        "arr13 = np.array([3,8,1,0,2,6,5])\n",
        "def find_argmin(a):\n",
        "  l = len(a)\n",
        "  argmin=0\n",
        "  for i in range(l):\n",
        "    if a[argmin]>a[i]:\n",
        "      argmin = i\n",
        "  return argmin\n",
        "\n",
        "print(find_argmin(arr13))\n",
        "print(np.argmin(arr13))"
      ],
      "metadata": {
        "colab": {
          "base_uri": "https://localhost:8080/"
        },
        "id": "7HlUA8sF6tF4",
        "outputId": "bca45cdc-da32-49e3-bade-4098b248e78e"
      },
      "execution_count": 15,
      "outputs": [
        {
          "output_type": "stream",
          "name": "stdout",
          "text": [
            "3\n",
            "3\n"
          ]
        }
      ]
    }
  ]
}